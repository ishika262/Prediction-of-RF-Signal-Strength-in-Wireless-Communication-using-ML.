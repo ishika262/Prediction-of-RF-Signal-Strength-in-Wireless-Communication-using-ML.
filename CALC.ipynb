{
 "cells": [
  {
   "cell_type": "code",
   "execution_count": 1,
   "id": "6bb7d29c",
   "metadata": {},
   "outputs": [],
   "source": [
    "import pandas as pd\n",
    "import numpy as np\n",
    "import geopy.distance\n",
    "import math"
   ]
  },
  {
   "cell_type": "code",
   "execution_count": 2,
   "id": "2e18863f",
   "metadata": {},
   "outputs": [],
   "source": [
    "#routine for calculating the angle of the transmission antenna.\n",
    "def get_bearing(lat2,lon2):\n",
    "    dLon = lon2 - (-51.794696); #calculating the change in longitude.\n",
    "    y = math.sin(dLon) * math.cos(lat2);\n",
    "    x = math.cos(-30.847095)*math.sin(lat2) - math.sin(-30.847095)*math.cos(lat2)*math.cos(dLon); # This vector represents the direction from a fixed point (latitude -30.847095, longitude -51.794696) to the given coordinates (lat2, lon2).\n",
    "    brng = np.rad2deg(math.atan2(y, x)); #This line computes the bearing angle using the atan2 function. The atan2 function returns the angle whose tangent is the quotient of the specified y and x values. np.rad2deg is used to convert the result from radians to degrees.\n",
    "    if brng < 0: brng+= 360 #This conditional statement checks if the calculated bearing (brng) is less than 0. If true, it adds 360 degrees to the bearing. This step ensures that the bearing is represented as a positive angle, and it falls within the range [0, 360).\n",
    "    brng=round(brng) #The round function is applied to round the bearing angle to the nearest integer\n",
    "    return brng # the function returns the calculated and processed bearing angle.\n"
   ]
  },
  {
   "cell_type": "code",
   "execution_count": 3,
   "id": "36f06e79",
   "metadata": {},
   "outputs": [],
   "source": [
    "\n",
    "#routine for calculating antenna gain\n",
    "def get_gain(angle):\n",
    "    a=angle+az; #adjusting the angle by adding another value (az), which might represent an azimuth or direction.\n",
    "    if a > 359: a = a - 360 #ensure that the angle stays within the range [0, 359].\n",
    "    G=dant.iloc[a, 1] #Here, dant appears to be a DataFrame or another data structure with two-dimensional indexing. The variable G is assigned the value found in the DataFrame dant at row a and column index 1. This line retrieves a gain value associated with the adjusted angle.\n",
    "    return G\n"
   ]
  },
  {
   "cell_type": "code",
   "execution_count": 4,
   "id": "c318045a",
   "metadata": {},
   "outputs": [],
   "source": [
    "# Read file\n",
    "df = pd.read_csv('Dataset1.txt', delimiter=',') #This line reads a CSV file named 'Sel_Cama_PCI320_(900).csv' into a Pandas DataFrame (df). The data in the CSV file is assumed to be comma-separated, as indicated by the delimiter=',' parameter.\n",
    "\n",
    "df = df[['Lon', 'Lat','RSRP','Region']]    #This line selects specific columns ('Lon', 'Lat', 'RSRP', 'Regiao') from the DataFrame df and assigns the result back to df. This step filters the DataFrame to include only the relevant columns for further analysis.\n",
    "\n",
    "dant = pd.read_csv('Dataset2.txt', delimiter=',') #This line reads another CSV file named 'Antena_cama.csv' into a new Pandas DataFrame (dant). In this case, the data in the CSV file is assumed to be semicolon-separated, as indicated by the delimiter=';' parameter.\n"
   ]
  },
  {
   "cell_type": "code",
   "execution_count": 5,
   "id": "13b1ed7c",
   "metadata": {},
   "outputs": [],
   "source": [
    "#transmitter coordinates\n",
    "p1 = (-30.847095, -51.794696)#This line defines a tuple p1 representing coordinates (-30.847095, -51.794696), which seems to be the coordinates for a location named 'Camaqua'.\n",
    "az = 120 #This line assigns the value 120 to the variable az, which is likely representing the azimuth or direction associated with the 'Camaqua' location.\n",
    "\n",
    "#calculates distances and angles\n",
    "dist=[]\n",
    "bearing=[]\n",
    "att=[]\n",
    "Gain=[]\n"
   ]
  },
  {
   "cell_type": "code",
   "execution_count": 6,
   "id": "b5392a01",
   "metadata": {},
   "outputs": [],
   "source": [
    "for _, pontos in df.iterrows(): #This line initiates a loop that iterates through the rows of the DataFrame df using iterrows(). The loop variable pontos will represent each row of the DataFrame in each iteration.\n",
    "    p2=[pontos['Lat'], pontos['Lon']] #Within the loop, this line creates a list p2 containing the latitude and longitude values from the current row (pontos) of the DataFrame. This represents the coordinates of a point in the DataFrame.\n",
    "    dist.append((geopy.distance.distance(p1, p2).km)*1000) #In this line, the code calculates the distance between the two points p1 and p2 using the geopy.distance.distance function. The result is in kilometers, so it's multiplied by 1000 to convert it to meters. The calculated distance is then appended to the dist list.\n",
    "    bearing.append(get_bearing(pontos['Lat'], pontos['Lon'])) #This line calculates the bearing angle between the two points using a function called get_bearing. The latitude and longitude values from the current row (pontos) are passed as arguments to this function. The resulting bearing angle is then appended to the bearing list.\n",
    "\n"
   ]
  },
  {
   "cell_type": "code",
   "execution_count": 7,
   "id": "f5d7b3bb",
   "metadata": {},
   "outputs": [],
   "source": [
    "df[\"Distance\"] = dist\n",
    "df[\"Bearing\"] = bearing\n",
    "#After the loop, these lines add two new columns, \"distancia\" and \"bearing\", to the DataFrame df.\n",
    "\n"
   ]
  },
  {
   "cell_type": "code",
   "execution_count": 8,
   "id": "11fc4d08",
   "metadata": {},
   "outputs": [],
   "source": [
    "for i in range(len(df)):\n",
    "    ang = df.iloc[i, 5]\n",
    "    adjusted_angle = (ang + az) % 360  # Use modulo operator to keep the angle in [0, 359]\n",
    "\n",
    "    try:\n",
    "        G = dant.iloc[adjusted_angle, 1]\n",
    "        Gain.append(G)\n",
    "    except IndexError:\n",
    "        # Handle the case where the index is out of bounds\n",
    "        Gain.append(None)  # Or you can assign a default value\n"
   ]
  },
  {
   "cell_type": "code",
   "execution_count": 9,
   "id": "ac441218",
   "metadata": {},
   "outputs": [
    {
     "name": "stdout",
     "output_type": "stream",
     "text": [
      "End\n"
     ]
    }
   ],
   "source": [
    "df[\"Gain\"] = Gain #After the loop, this line adds a new column named \"Ganho\" to the DataFrame df and populates it with the values from the Gant list. This column likely contains gain values associated with the angles.\n",
    "\n",
    "df=df.sort_values(by=['Distance']) #This line sorts the DataFrame df based on the values in the \"distancia\" column in ascending order. This step organizes the DataFrame by distance, so the points are ordered from the closest to the reference point to the farthest.\n",
    "\n",
    "df.to_csv('NEW CALC.csv') #Finally, this line writes the sorted DataFrame df to a new CSV file named 'Sel_Cama_PCI320_(900)_dis.csv'. This file likely contains the original data with additional columns for distance, bearing, gain, and has been sorted by distance.\n",
    "\n",
    "print(\"End\")"
   ]
  },
  {
   "cell_type": "markdown",
   "id": "49f1eab6",
   "metadata": {},
   "source": [
    "## "
   ]
  }
 ],
 "metadata": {
  "kernelspec": {
   "display_name": "Python 3 (ipykernel)",
   "language": "python",
   "name": "python3"
  },
  "language_info": {
   "codemirror_mode": {
    "name": "ipython",
    "version": 3
   },
   "file_extension": ".py",
   "mimetype": "text/x-python",
   "name": "python",
   "nbconvert_exporter": "python",
   "pygments_lexer": "ipython3",
   "version": "3.9.12"
  }
 },
 "nbformat": 4,
 "nbformat_minor": 5
}
